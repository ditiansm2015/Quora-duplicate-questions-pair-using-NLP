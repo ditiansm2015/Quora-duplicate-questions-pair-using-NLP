{
  "nbformat": 4,
  "nbformat_minor": 0,
  "metadata": {
    "colab": {
      "provenance": []
    },
    "kernelspec": {
      "name": "python3",
      "display_name": "Python 3"
    },
    "language_info": {
      "name": "python"
    }
  },
  "cells": [
    {
      "cell_type": "markdown",
      "source": [
        "### **Quora Duplicate Questions  Pairs**"
      ],
      "metadata": {
        "id": "jK-tJ0I5g939"
      }
    },
    {
      "cell_type": "markdown",
      "source": [
        "**Dataset source:**\n",
        "\n",
        "https://www.kaggle.com/c/quora-question-pairs\n"
      ],
      "metadata": {
        "id": "7ycFCwK0R1JC"
      }
    },
    {
      "cell_type": "code",
      "execution_count": 1,
      "metadata": {
        "id": "Kdu3Gw7Frt8k"
      },
      "outputs": [],
      "source": [
        "import numpy as np\n",
        "import pandas as pd\n",
        "import matplotlib.pyplot as plt\n",
        "import seaborn as sns"
      ]
    },
    {
      "cell_type": "code",
      "source": [
        "df = pd.read_csv('train.csv')"
      ],
      "metadata": {
        "id": "TXpmttlCIO30"
      },
      "execution_count": 2,
      "outputs": []
    },
    {
      "cell_type": "code",
      "source": [
        "df.shape"
      ],
      "metadata": {
        "colab": {
          "base_uri": "https://localhost:8080/"
        },
        "id": "Cwo_y3DlI3In",
        "outputId": "120ebb84-7109-4846-b62c-2844e029f151"
      },
      "execution_count": 4,
      "outputs": [
        {
          "output_type": "execute_result",
          "data": {
            "text/plain": [
              "(404290, 6)"
            ]
          },
          "metadata": {},
          "execution_count": 4
        }
      ]
    },
    {
      "cell_type": "code",
      "source": [
        "# is_duplicate = 0 means that the two questions are not duplicate\n",
        "\n",
        "df.sample(10)"
      ],
      "metadata": {
        "colab": {
          "base_uri": "https://localhost:8080/",
          "height": 363
        },
        "id": "2O3fIN8OIO6F",
        "outputId": "f22ac524-2a78-4123-d3dd-b535988ed785"
      },
      "execution_count": 8,
      "outputs": [
        {
          "output_type": "execute_result",
          "data": {
            "text/plain": [
              "            id    qid1    qid2  \\\n",
              "69197    69197  119434  119435   \n",
              "338747  338747   47712  291521   \n",
              "29283    29283   54197   54198   \n",
              "225582  225582  333951  333952   \n",
              "225193  225193  333483  333484   \n",
              "272055  272055  111248  267770   \n",
              "339943  339943  244750   48722   \n",
              "372503  372503  503229  503230   \n",
              "131218  131218  210435  210436   \n",
              "324862  324862   17954   42486   \n",
              "\n",
              "                                                question1  \\\n",
              "69197                          How do you download AoE 3?   \n",
              "338747  What is the most common reason people start sm...   \n",
              "29283   What work can a person with physical limitatio...   \n",
              "225582  As students in unvrsity campus town what kind ...   \n",
              "225193  In Indonesia, what is the outlook for property...   \n",
              "272055               How should one deal with depression?   \n",
              "339943    What was the importance of the Battle of Somme?   \n",
              "372503  Is there a site that tells you where a song ha...   \n",
              "131218  Is time linear so that the cosmos even had a b...   \n",
              "324862                    What does surgical strike mean?   \n",
              "\n",
              "                                                question2  is_duplicate  \n",
              "69197                             Where is submarine AE1?             0  \n",
              "338747                    Why do I want to start smoking?             1  \n",
              "29283   I want to be a nurse, but I really don't like ...             0  \n",
              "225582   What are some good topics for making a magazine?             0  \n",
              "225193           Can I go braless in Indonesia (Jakarta)?             0  \n",
              "272055        How do I deal with this depression of mine?             1  \n",
              "339943  What is the significance of the Battle of the ...             1  \n",
              "372503  What are some songs/bands you used to like ear...             0  \n",
              "131218            Is time inherently linear or nonlinear?             0  \n",
              "324862                         What is a surgical strike?             1  "
            ],
            "text/html": [
              "\n",
              "  <div id=\"df-1e1633fc-327b-4f92-b7d7-51e6d96b037b\">\n",
              "    <div class=\"colab-df-container\">\n",
              "      <div>\n",
              "<style scoped>\n",
              "    .dataframe tbody tr th:only-of-type {\n",
              "        vertical-align: middle;\n",
              "    }\n",
              "\n",
              "    .dataframe tbody tr th {\n",
              "        vertical-align: top;\n",
              "    }\n",
              "\n",
              "    .dataframe thead th {\n",
              "        text-align: right;\n",
              "    }\n",
              "</style>\n",
              "<table border=\"1\" class=\"dataframe\">\n",
              "  <thead>\n",
              "    <tr style=\"text-align: right;\">\n",
              "      <th></th>\n",
              "      <th>id</th>\n",
              "      <th>qid1</th>\n",
              "      <th>qid2</th>\n",
              "      <th>question1</th>\n",
              "      <th>question2</th>\n",
              "      <th>is_duplicate</th>\n",
              "    </tr>\n",
              "  </thead>\n",
              "  <tbody>\n",
              "    <tr>\n",
              "      <th>69197</th>\n",
              "      <td>69197</td>\n",
              "      <td>119434</td>\n",
              "      <td>119435</td>\n",
              "      <td>How do you download AoE 3?</td>\n",
              "      <td>Where is submarine AE1?</td>\n",
              "      <td>0</td>\n",
              "    </tr>\n",
              "    <tr>\n",
              "      <th>338747</th>\n",
              "      <td>338747</td>\n",
              "      <td>47712</td>\n",
              "      <td>291521</td>\n",
              "      <td>What is the most common reason people start sm...</td>\n",
              "      <td>Why do I want to start smoking?</td>\n",
              "      <td>1</td>\n",
              "    </tr>\n",
              "    <tr>\n",
              "      <th>29283</th>\n",
              "      <td>29283</td>\n",
              "      <td>54197</td>\n",
              "      <td>54198</td>\n",
              "      <td>What work can a person with physical limitatio...</td>\n",
              "      <td>I want to be a nurse, but I really don't like ...</td>\n",
              "      <td>0</td>\n",
              "    </tr>\n",
              "    <tr>\n",
              "      <th>225582</th>\n",
              "      <td>225582</td>\n",
              "      <td>333951</td>\n",
              "      <td>333952</td>\n",
              "      <td>As students in unvrsity campus town what kind ...</td>\n",
              "      <td>What are some good topics for making a magazine?</td>\n",
              "      <td>0</td>\n",
              "    </tr>\n",
              "    <tr>\n",
              "      <th>225193</th>\n",
              "      <td>225193</td>\n",
              "      <td>333483</td>\n",
              "      <td>333484</td>\n",
              "      <td>In Indonesia, what is the outlook for property...</td>\n",
              "      <td>Can I go braless in Indonesia (Jakarta)?</td>\n",
              "      <td>0</td>\n",
              "    </tr>\n",
              "    <tr>\n",
              "      <th>272055</th>\n",
              "      <td>272055</td>\n",
              "      <td>111248</td>\n",
              "      <td>267770</td>\n",
              "      <td>How should one deal with depression?</td>\n",
              "      <td>How do I deal with this depression of mine?</td>\n",
              "      <td>1</td>\n",
              "    </tr>\n",
              "    <tr>\n",
              "      <th>339943</th>\n",
              "      <td>339943</td>\n",
              "      <td>244750</td>\n",
              "      <td>48722</td>\n",
              "      <td>What was the importance of the Battle of Somme?</td>\n",
              "      <td>What is the significance of the Battle of the ...</td>\n",
              "      <td>1</td>\n",
              "    </tr>\n",
              "    <tr>\n",
              "      <th>372503</th>\n",
              "      <td>372503</td>\n",
              "      <td>503229</td>\n",
              "      <td>503230</td>\n",
              "      <td>Is there a site that tells you where a song ha...</td>\n",
              "      <td>What are some songs/bands you used to like ear...</td>\n",
              "      <td>0</td>\n",
              "    </tr>\n",
              "    <tr>\n",
              "      <th>131218</th>\n",
              "      <td>131218</td>\n",
              "      <td>210435</td>\n",
              "      <td>210436</td>\n",
              "      <td>Is time linear so that the cosmos even had a b...</td>\n",
              "      <td>Is time inherently linear or nonlinear?</td>\n",
              "      <td>0</td>\n",
              "    </tr>\n",
              "    <tr>\n",
              "      <th>324862</th>\n",
              "      <td>324862</td>\n",
              "      <td>17954</td>\n",
              "      <td>42486</td>\n",
              "      <td>What does surgical strike mean?</td>\n",
              "      <td>What is a surgical strike?</td>\n",
              "      <td>1</td>\n",
              "    </tr>\n",
              "  </tbody>\n",
              "</table>\n",
              "</div>\n",
              "      <button class=\"colab-df-convert\" onclick=\"convertToInteractive('df-1e1633fc-327b-4f92-b7d7-51e6d96b037b')\"\n",
              "              title=\"Convert this dataframe to an interactive table.\"\n",
              "              style=\"display:none;\">\n",
              "        \n",
              "  <svg xmlns=\"http://www.w3.org/2000/svg\" height=\"24px\"viewBox=\"0 0 24 24\"\n",
              "       width=\"24px\">\n",
              "    <path d=\"M0 0h24v24H0V0z\" fill=\"none\"/>\n",
              "    <path d=\"M18.56 5.44l.94 2.06.94-2.06 2.06-.94-2.06-.94-.94-2.06-.94 2.06-2.06.94zm-11 1L8.5 8.5l.94-2.06 2.06-.94-2.06-.94L8.5 2.5l-.94 2.06-2.06.94zm10 10l.94 2.06.94-2.06 2.06-.94-2.06-.94-.94-2.06-.94 2.06-2.06.94z\"/><path d=\"M17.41 7.96l-1.37-1.37c-.4-.4-.92-.59-1.43-.59-.52 0-1.04.2-1.43.59L10.3 9.45l-7.72 7.72c-.78.78-.78 2.05 0 2.83L4 21.41c.39.39.9.59 1.41.59.51 0 1.02-.2 1.41-.59l7.78-7.78 2.81-2.81c.8-.78.8-2.07 0-2.86zM5.41 20L4 18.59l7.72-7.72 1.47 1.35L5.41 20z\"/>\n",
              "  </svg>\n",
              "      </button>\n",
              "      \n",
              "  <style>\n",
              "    .colab-df-container {\n",
              "      display:flex;\n",
              "      flex-wrap:wrap;\n",
              "      gap: 12px;\n",
              "    }\n",
              "\n",
              "    .colab-df-convert {\n",
              "      background-color: #E8F0FE;\n",
              "      border: none;\n",
              "      border-radius: 50%;\n",
              "      cursor: pointer;\n",
              "      display: none;\n",
              "      fill: #1967D2;\n",
              "      height: 32px;\n",
              "      padding: 0 0 0 0;\n",
              "      width: 32px;\n",
              "    }\n",
              "\n",
              "    .colab-df-convert:hover {\n",
              "      background-color: #E2EBFA;\n",
              "      box-shadow: 0px 1px 2px rgba(60, 64, 67, 0.3), 0px 1px 3px 1px rgba(60, 64, 67, 0.15);\n",
              "      fill: #174EA6;\n",
              "    }\n",
              "\n",
              "    [theme=dark] .colab-df-convert {\n",
              "      background-color: #3B4455;\n",
              "      fill: #D2E3FC;\n",
              "    }\n",
              "\n",
              "    [theme=dark] .colab-df-convert:hover {\n",
              "      background-color: #434B5C;\n",
              "      box-shadow: 0px 1px 3px 1px rgba(0, 0, 0, 0.15);\n",
              "      filter: drop-shadow(0px 1px 2px rgba(0, 0, 0, 0.3));\n",
              "      fill: #FFFFFF;\n",
              "    }\n",
              "  </style>\n",
              "\n",
              "      <script>\n",
              "        const buttonEl =\n",
              "          document.querySelector('#df-1e1633fc-327b-4f92-b7d7-51e6d96b037b button.colab-df-convert');\n",
              "        buttonEl.style.display =\n",
              "          google.colab.kernel.accessAllowed ? 'block' : 'none';\n",
              "\n",
              "        async function convertToInteractive(key) {\n",
              "          const element = document.querySelector('#df-1e1633fc-327b-4f92-b7d7-51e6d96b037b');\n",
              "          const dataTable =\n",
              "            await google.colab.kernel.invokeFunction('convertToInteractive',\n",
              "                                                     [key], {});\n",
              "          if (!dataTable) return;\n",
              "\n",
              "          const docLinkHtml = 'Like what you see? Visit the ' +\n",
              "            '<a target=\"_blank\" href=https://colab.research.google.com/notebooks/data_table.ipynb>data table notebook</a>'\n",
              "            + ' to learn more about interactive tables.';\n",
              "          element.innerHTML = '';\n",
              "          dataTable['output_type'] = 'display_data';\n",
              "          await google.colab.output.renderOutput(dataTable, element);\n",
              "          const docLink = document.createElement('div');\n",
              "          docLink.innerHTML = docLinkHtml;\n",
              "          element.appendChild(docLink);\n",
              "        }\n",
              "      </script>\n",
              "    </div>\n",
              "  </div>\n",
              "  "
            ]
          },
          "metadata": {},
          "execution_count": 8
        }
      ]
    },
    {
      "cell_type": "code",
      "source": [
        "df.info()"
      ],
      "metadata": {
        "colab": {
          "base_uri": "https://localhost:8080/"
        },
        "id": "p2cS4Yj9SCFb",
        "outputId": "06dd1708-813a-49e2-f58e-4a7fbeef49e6"
      },
      "execution_count": 10,
      "outputs": [
        {
          "output_type": "stream",
          "name": "stdout",
          "text": [
            "<class 'pandas.core.frame.DataFrame'>\n",
            "RangeIndex: 404290 entries, 0 to 404289\n",
            "Data columns (total 6 columns):\n",
            " #   Column        Non-Null Count   Dtype \n",
            "---  ------        --------------   ----- \n",
            " 0   id            404290 non-null  int64 \n",
            " 1   qid1          404290 non-null  int64 \n",
            " 2   qid2          404290 non-null  int64 \n",
            " 3   question1     404289 non-null  object\n",
            " 4   question2     404290 non-null  object\n",
            " 5   is_duplicate  404290 non-null  int64 \n",
            "dtypes: int64(4), object(2)\n",
            "memory usage: 18.5+ MB\n"
          ]
        }
      ]
    },
    {
      "cell_type": "code",
      "source": [
        "# Checking if any row data is repeated or not (i.e. if any two rows have same data or not) and we see no rows are duplicated\n",
        "\n",
        "df.duplicated().sum()"
      ],
      "metadata": {
        "colab": {
          "base_uri": "https://localhost:8080/"
        },
        "id": "R1UMMfB1SO1D",
        "outputId": "ebabd3bf-e02a-4bcf-c7cc-5ee03431f13e"
      },
      "execution_count": 12,
      "outputs": [
        {
          "output_type": "execute_result",
          "data": {
            "text/plain": [
              "0"
            ]
          },
          "metadata": {},
          "execution_count": 12
        }
      ]
    },
    {
      "cell_type": "code",
      "source": [
        "# Out of total data point how many are duplicate and how many have unique questions in question1 and question2 columns \n",
        "# (i.e. count of each class - is_duplicates = 0 and 1)\n",
        "\n",
        "print(df['is_duplicate'].value_counts())\n",
        "print((df['is_duplicate'].value_counts()/df['is_duplicate'].count())*100)\n",
        "df['is_duplicate'].value_counts().plot(kind='bar')\n",
        "\n",
        "# We notice class imbalance here - 63% vs 36%\n"
      ],
      "metadata": {
        "colab": {
          "base_uri": "https://localhost:8080/",
          "height": 387
        },
        "id": "nYJ3P4whSaCg",
        "outputId": "0d651c7a-bd9e-472f-f1ea-4fe911ba38f6"
      },
      "execution_count": 20,
      "outputs": [
        {
          "output_type": "stream",
          "name": "stdout",
          "text": [
            "0    255027\n",
            "1    149263\n",
            "Name: is_duplicate, dtype: int64\n",
            "0    63.080215\n",
            "1    36.919785\n",
            "Name: is_duplicate, dtype: float64\n"
          ]
        },
        {
          "output_type": "execute_result",
          "data": {
            "text/plain": [
              "<matplotlib.axes._subplots.AxesSubplot at 0x7f9e7290bb50>"
            ]
          },
          "metadata": {},
          "execution_count": 20
        },
        {
          "output_type": "display_data",
          "data": {
            "text/plain": [
              "<Figure size 432x288 with 1 Axes>"
            ],
            "image/png": "[encoded data removed]"
          },
          "metadata": {
            "needs_background": "light"
          }
        }
      ]
    },
    {
      "cell_type": "code",
      "source": [
        "qid = pd.Series(df['qid1'].tolist() + df['qid2'].tolist())       # Merging Ques 1 and Ques 2 in each row \n",
        "print('Number of unique questions', np.unique(qid).shape[0])\n",
        "\n",
        "x = qid.value_counts()>1\n",
        "print('Number of questions that are getting repeated', x[x].shape[0])     # i.e out of 8 Lakh total questions (ques1 column has 4L questions and ques2 column has 4L questions) how many questions are getting repeated"
      ],
      "metadata": {
        "colab": {
          "base_uri": "https://localhost:8080/"
        },
        "id": "CMHgM_YLfZ8H",
        "outputId": "285b3293-16b9-480a-af32-6a95edb24e2d"
      },
      "execution_count": 23,
      "outputs": [
        {
          "output_type": "stream",
          "name": "stdout",
          "text": [
            "Number of unique questions 537933\n",
            "Number of questions that are getting repeated 111780\n"
          ]
        }
      ]
    },
    {
      "cell_type": "code",
      "source": [
        "# Repeated questions histogram\n",
        "\n",
        "plt.hist(qid.value_counts().values, bins = 160)\n",
        "plt.yscale('log')\n",
        "plt.show()"
      ],
      "metadata": {
        "colab": {
          "base_uri": "https://localhost:8080/",
          "height": 265
        },
        "id": "1uhDSLZvfZ-r",
        "outputId": "f2bbbd81-3f58-4662-aafe-ad53b4ec2273"
      },
      "execution_count": 24,
      "outputs": [
        {
          "output_type": "display_data",
          "data": {
            "text/plain": [
              "<Figure size 432x288 with 1 Axes>"
            ],
            "image/png": "[encoded data removed]"
          },
          "metadata": {
            "needs_background": "light"
          }
        }
      ]
    },
    {
      "cell_type": "code",
      "source": [],
      "metadata": {
        "id": "7YlT31esfaBC"
      },
      "execution_count": null,
      "outputs": []
    },
    {
      "cell_type": "code",
      "source": [],
      "metadata": {
        "id": "RMGY_G5jfaH0"
      },
      "execution_count": null,
      "outputs": []
    }
  ]
}